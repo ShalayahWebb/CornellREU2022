{
 "cells": [
  {
   "cell_type": "code",
   "execution_count": 1,
   "id": "79cabe12",
   "metadata": {},
   "outputs": [],
   "source": [
    "import pandas as pd"
   ]
  },
  {
   "cell_type": "code",
   "execution_count": 2,
   "id": "9dc493b8",
   "metadata": {},
   "outputs": [
    {
     "name": "stdout",
     "output_type": "stream",
     "text": [
      "    Cab.Bridge  Voltage Steps  V(PZT)  real_V  M-E Sensor  ME_D  ME_A_dis  \\\n",
      "0        31023            NaN   0.428    4.28     1159.90   NaN       NaN   \n",
      "1        31423          400.0   1.478   14.78     1166.59  6.69      6.69   \n",
      "2        31823          400.0   2.276   22.76     1173.38  6.79     13.48   \n",
      "3        32223          400.0   3.046   30.46     1180.14  6.76     20.24   \n",
      "4        32623          400.0   3.782   37.82     1186.93  6.79     27.03   \n",
      "5        33023          400.0   4.460   44.60     1193.89  6.96     33.99   \n",
      "6        33423          400.0   5.360   53.60     1201.88  7.99     41.98   \n",
      "7        33823          400.0   6.190   61.90     1209.90  8.02     50.00   \n",
      "8        34223          400.0   7.030   70.30     1217.97  8.07     58.07   \n",
      "9        34623          400.0   7.870   78.70     1226.07  8.10     66.17   \n",
      "10       35023          400.0   8.750   87.50     1234.25  8.18     74.35   \n",
      "11       34623         -400.0   7.150   71.50     1226.09 -8.16     66.19   \n",
      "12       34223         -400.0   5.920   59.20     1218.00 -8.09     58.10   \n",
      "13       33823         -400.0   4.810   48.10     1209.94 -8.06     50.04   \n",
      "14       33423         -400.0   3.780   37.80     1201.90 -8.04     42.00   \n",
      "15       33023         -400.0   2.856   28.56     1193.90 -8.00     34.00   \n",
      "16       32623         -400.0   2.115   21.15     1186.95 -6.95     27.05   \n",
      "17       32223         -400.0   1.376   13.76     1180.17 -6.78     20.27   \n",
      "18       31823         -400.0   0.705    7.05     1173.42 -6.75     13.52   \n",
      "19       31423         -400.0   0.074    0.74     1166.69 -6.73      6.79   \n",
      "20       31023         -400.0  -0.592   -5.92     1160.00 -6.69      0.10   \n",
      "\n",
      "    Fringes  fringe_D  fringe_A_dis      Time  \n",
      "0       NaN       NaN           NaN  03:42:00  \n",
      "1      20.0    6.3280        6.3280  03:44:00  \n",
      "2      21.0    6.6444       12.9724  03:45:00  \n",
      "3      21.0    6.6444       19.6168  03:47:00  \n",
      "4      19.0    6.0116       25.6284  03:49:00  \n",
      "5      11.0    3.4804       29.1088  03:51:00  \n",
      "6      19.0    6.0116       35.1204  03:53:00  \n",
      "7      20.0    6.3280       41.4484  03:55:00  \n",
      "8      20.0    6.3280       47.7764  03:57:00  \n",
      "9      22.0    6.9608       54.7372  03:59:00  \n",
      "10     23.0    7.2772       62.0144  04:00:00  \n",
      "11    -25.0   -7.9100       54.1044  04:02:00  \n",
      "12    -24.0   -7.5936       46.5108  04:05:00  \n",
      "13    -26.0   -8.2264       38.2844  04:06:00  \n",
      "14    -25.0   -7.9100       30.3744  04:08:00  \n",
      "15    -25.0   -7.9100       22.4644  04:10:00  \n",
      "16    -25.0   -7.9100       14.5544  04:12:00  \n",
      "17    -25.0   -7.9100        6.6444  04:14:00  \n",
      "18    -23.0   -7.2772       -0.6328  04:17:00  \n",
      "19    -23.0   -7.2772       -7.9100  04:18:00  \n",
      "20    -24.0   -7.5936      -15.5036  04:20:00  \n"
     ]
    }
   ],
   "source": [
    "df = pd.read_excel(\"0630_1000Microns.xlsx\")\n",
    "print(df)"
   ]
  },
  {
   "cell_type": "code",
   "execution_count": 4,
   "id": "6e1f725c",
   "metadata": {},
   "outputs": [
    {
     "name": "stdout",
     "output_type": "stream",
     "text": [
      "    ME_A_dis\n",
      "1       1.68\n",
      "2       3.38\n",
      "3      23.45\n",
      "4      27.44\n",
      "5      35.49\n",
      "6      43.59\n",
      "7      51.71\n",
      "8      59.87\n",
      "9      68.12\n",
      "10     59.90\n",
      "11     51.75\n",
      "12     43.64\n",
      "13     35.54\n",
      "14     27.49\n",
      "15     20.50\n",
      "16     13.68\n",
      "17     13.69\n",
      "18      6.89\n",
      "19      0.12\n",
      "20     -0.72\n"
     ]
    }
   ],
   "source": [
    "require_cols1 = [6]\n",
    "ME_A_dis = pd.read_excel(\"0623_300Microns.xlsx\", usecols = require_cols1)\n",
    "ME_A_dis.drop([0],axis=0, inplace=True)\n",
    "print(ME_A_dis)"
   ]
  },
  {
   "cell_type": "code",
   "execution_count": 5,
   "id": "344d273c",
   "metadata": {},
   "outputs": [
    {
     "name": "stdout",
     "output_type": "stream",
     "text": [
      "    fringe_A_dis\n",
      "1         1.5820\n",
      "2         3.1640\n",
      "3        18.6676\n",
      "4        22.1480\n",
      "5        28.4760\n",
      "6        34.1712\n",
      "7        41.1320\n",
      "8        46.1944\n",
      "9        53.7880\n",
      "10       46.1944\n",
      "11       38.9172\n",
      "12       31.0072\n",
      "13       23.7300\n",
      "14       16.7692\n",
      "15        9.1756\n",
      "16        1.8984\n",
      "17       -4.7460\n",
      "18      -11.3904\n",
      "19      -17.7184\n",
      "20      -18.6676\n"
     ]
    }
   ],
   "source": [
    "require_cols2 = [9]\n",
    "fringe_A_dis = pd.read_excel(\"0623_300Microns.xlsx\", usecols = require_cols2)\n",
    "fringe_A_dis.drop([0],axis=0, inplace=True)\n",
    "print(fringe_A_dis)"
   ]
  },
  {
   "cell_type": "code",
   "execution_count": 7,
   "id": "2f8f0a80",
   "metadata": {},
   "outputs": [
    {
     "name": "stdout",
     "output_type": "stream",
     "text": [
      "    real_V\n",
      "1    14.78\n",
      "2    22.76\n",
      "3    30.46\n",
      "4    37.82\n",
      "5    44.60\n",
      "6    53.60\n",
      "7    61.90\n",
      "8    70.30\n",
      "9    78.70\n",
      "10   87.50\n",
      "11   71.50\n",
      "12   59.20\n",
      "13   48.10\n",
      "14   37.80\n",
      "15   28.56\n",
      "16   21.15\n",
      "17   13.76\n",
      "18    7.05\n",
      "19    0.74\n",
      "20   -5.92\n"
     ]
    }
   ],
   "source": [
    "require_cols3 = [3]\n",
    "real_V = pd.read_excel(\"0630_1000Microns.xlsx\", usecols = require_cols3)\n",
    "real_V.drop([0],axis=0, inplace=True)\n",
    "print(real_V)"
   ]
  },
  {
   "cell_type": "code",
   "execution_count": 8,
   "id": "f7d13dd6",
   "metadata": {},
   "outputs": [],
   "source": [
    "import matplotlib.pyplot as plt\n",
    "plt.close(\"all\")"
   ]
  },
  {
   "cell_type": "code",
   "execution_count": 9,
   "id": "d84df989",
   "metadata": {},
   "outputs": [
    {
     "data": {
      "text/plain": [
       "<function matplotlib.pyplot.show(close=None, block=None)>"
      ]
     },
     "execution_count": 9,
     "metadata": {},
     "output_type": "execute_result"
    },
    {
     "data": {
      "image/png": "[encoded data removed]",
      "text/plain": [
       "<Figure size 432x288 with 1 Axes>"
      ]
     },
     "metadata": {
      "needs_background": "light"
     },
     "output_type": "display_data"
    }
   ],
   "source": [
    "x = fringe_A_dis\n",
    "y = ME_A_dis\n",
    "\n",
    "\n",
    "\n",
    "plt.plot(x,y)\n",
    "plt.xlabel('Displacement Calculated from Fringes (Microns)')\n",
    "plt.ylabel('Displacement Measured by Capacitive Sensor')\n",
    "\n",
    "plt.title('Cap Sensor Displacement vs. Fringe Count Displacement (Microns)')\n",
    "\n",
    "\n",
    "\n",
    "\n",
    "plt.grid()\n",
    "plt.show"
   ]
  },
  {
   "cell_type": "code",
   "execution_count": 10,
   "id": "408dc593",
   "metadata": {},
   "outputs": [
    {
     "data": {
      "text/plain": [
       "<function matplotlib.pyplot.show(close=None, block=None)>"
      ]
     },
     "execution_count": 10,
     "metadata": {},
     "output_type": "execute_result"
    },
    {
     "data": {
      "image/png": "[encoded data removed]",
      "text/plain": [
       "<Figure size 432x288 with 1 Axes>"
      ]
     },
     "metadata": {
      "needs_background": "light"
     },
     "output_type": "display_data"
    }
   ],
   "source": [
    "x = real_V\n",
    "y = fringe_A_dis\n",
    "\n",
    "plt.plot(x,y)\n",
    "\n",
    "plt.xlabel('Voltage (V)')\n",
    "plt.ylabel('Displacement Calculated from Fringes (Microns)')\n",
    "\n",
    "plt.title('Fringe Count Displacement vs. PZT Voltage')\n",
    "\n",
    "plt.grid()\n",
    "plt.show"
   ]
  },
  {
   "cell_type": "code",
   "execution_count": null,
   "id": "9adcafb8",
   "metadata": {},
   "outputs": [],
   "source": []
  }
 ],
 "metadata": {
  "kernelspec": {
   "display_name": "Python 3",
   "language": "python",
   "name": "python3"
  },
  "language_info": {
   "codemirror_mode": {
    "name": "ipython",
    "version": 3
   },
   "file_extension": ".py",
   "mimetype": "text/x-python",
   "name": "python",
   "nbconvert_exporter": "python",
   "pygments_lexer": "ipython3",
   "version": "3.7.6"
  }
 },
 "nbformat": 4,
 "nbformat_minor": 5
}
